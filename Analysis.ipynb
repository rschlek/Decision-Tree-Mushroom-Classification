{
 "cells": [
  {
   "cell_type": "code",
   "execution_count": 2,
   "metadata": {},
   "outputs": [],
   "source": [
    "import pandas as pd\n",
    "import matplotlib.pyplot as plt\n"
   ]
  },
  {
   "cell_type": "code",
   "execution_count": 3,
   "metadata": {},
   "outputs": [
    {
     "data": {
      "text/html": [
       "<div>\n",
       "<style scoped>\n",
       "    .dataframe tbody tr th:only-of-type {\n",
       "        vertical-align: middle;\n",
       "    }\n",
       "\n",
       "    .dataframe tbody tr th {\n",
       "        vertical-align: top;\n",
       "    }\n",
       "\n",
       "    .dataframe thead th {\n",
       "        text-align: right;\n",
       "    }\n",
       "</style>\n",
       "<table border=\"1\" class=\"dataframe\">\n",
       "  <thead>\n",
       "    <tr style=\"text-align: right;\">\n",
       "      <th></th>\n",
       "      <th>Model Type</th>\n",
       "      <th>Training Split Ratio</th>\n",
       "      <th>Max Depth</th>\n",
       "      <th>Criterion</th>\n",
       "      <th>Number of Trees</th>\n",
       "      <th>Mean Accuracy</th>\n",
       "    </tr>\n",
       "  </thead>\n",
       "  <tbody>\n",
       "    <tr>\n",
       "      <th>0</th>\n",
       "      <td>Decision Tree</td>\n",
       "      <td>0.35</td>\n",
       "      <td>6</td>\n",
       "      <td>gini</td>\n",
       "      <td>NaN</td>\n",
       "      <td>0.996129</td>\n",
       "    </tr>\n",
       "    <tr>\n",
       "      <th>1</th>\n",
       "      <td>Decision Tree</td>\n",
       "      <td>0.45</td>\n",
       "      <td>6</td>\n",
       "      <td>gini</td>\n",
       "      <td>NaN</td>\n",
       "      <td>0.995823</td>\n",
       "    </tr>\n",
       "    <tr>\n",
       "      <th>2</th>\n",
       "      <td>Decision Tree</td>\n",
       "      <td>0.20</td>\n",
       "      <td>6</td>\n",
       "      <td>gini</td>\n",
       "      <td>NaN</td>\n",
       "      <td>0.995772</td>\n",
       "    </tr>\n",
       "    <tr>\n",
       "      <th>3</th>\n",
       "      <td>Decision Tree</td>\n",
       "      <td>0.25</td>\n",
       "      <td>6</td>\n",
       "      <td>gini</td>\n",
       "      <td>NaN</td>\n",
       "      <td>0.995716</td>\n",
       "    </tr>\n",
       "    <tr>\n",
       "      <th>4</th>\n",
       "      <td>Decision Tree</td>\n",
       "      <td>0.15</td>\n",
       "      <td>6</td>\n",
       "      <td>gini</td>\n",
       "      <td>NaN</td>\n",
       "      <td>0.995439</td>\n",
       "    </tr>\n",
       "    <tr>\n",
       "      <th>5</th>\n",
       "      <td>Decision Tree</td>\n",
       "      <td>0.10</td>\n",
       "      <td>6</td>\n",
       "      <td>gini</td>\n",
       "      <td>NaN</td>\n",
       "      <td>0.995375</td>\n",
       "    </tr>\n",
       "    <tr>\n",
       "      <th>6</th>\n",
       "      <td>Decision Tree</td>\n",
       "      <td>0.30</td>\n",
       "      <td>6</td>\n",
       "      <td>gini</td>\n",
       "      <td>NaN</td>\n",
       "      <td>0.995221</td>\n",
       "    </tr>\n",
       "    <tr>\n",
       "      <th>7</th>\n",
       "      <td>Decision Tree</td>\n",
       "      <td>0.40</td>\n",
       "      <td>6</td>\n",
       "      <td>gini</td>\n",
       "      <td>NaN</td>\n",
       "      <td>0.995200</td>\n",
       "    </tr>\n",
       "    <tr>\n",
       "      <th>8</th>\n",
       "      <td>Random Forest</td>\n",
       "      <td>0.25</td>\n",
       "      <td>6</td>\n",
       "      <td>gini</td>\n",
       "      <td>126.0</td>\n",
       "      <td>0.994426</td>\n",
       "    </tr>\n",
       "    <tr>\n",
       "      <th>9</th>\n",
       "      <td>Random Forest</td>\n",
       "      <td>0.20</td>\n",
       "      <td>6</td>\n",
       "      <td>gini</td>\n",
       "      <td>125.0</td>\n",
       "      <td>0.994425</td>\n",
       "    </tr>\n",
       "  </tbody>\n",
       "</table>\n",
       "</div>"
      ],
      "text/plain": [
       "      Model Type  Training Split Ratio  Max Depth Criterion  Number of Trees  \\\n",
       "0  Decision Tree                  0.35          6      gini              NaN   \n",
       "1  Decision Tree                  0.45          6      gini              NaN   \n",
       "2  Decision Tree                  0.20          6      gini              NaN   \n",
       "3  Decision Tree                  0.25          6      gini              NaN   \n",
       "4  Decision Tree                  0.15          6      gini              NaN   \n",
       "5  Decision Tree                  0.10          6      gini              NaN   \n",
       "6  Decision Tree                  0.30          6      gini              NaN   \n",
       "7  Decision Tree                  0.40          6      gini              NaN   \n",
       "8  Random Forest                  0.25          6      gini            126.0   \n",
       "9  Random Forest                  0.20          6      gini            125.0   \n",
       "\n",
       "   Mean Accuracy  \n",
       "0       0.996129  \n",
       "1       0.995823  \n",
       "2       0.995772  \n",
       "3       0.995716  \n",
       "4       0.995439  \n",
       "5       0.995375  \n",
       "6       0.995221  \n",
       "7       0.995200  \n",
       "8       0.994426  \n",
       "9       0.994425  "
      ]
     },
     "execution_count": 3,
     "metadata": {},
     "output_type": "execute_result"
    }
   ],
   "source": [
    "df = pd.read_csv('results.csv')\n",
    "\n",
    "df.head(10)"
   ]
  },
  {
   "cell_type": "markdown",
   "metadata": {},
   "source": [
    "It appears that the most accurate model (out of RF and DT) to predict mushroom toxicity is decision tree with a max depth of 6, and when using the gini index. However, it is important to note that the accuracies for ALL models are fairly acceptable (most above 99% accurate)"
   ]
  },
  {
   "cell_type": "code",
   "execution_count": 10,
   "metadata": {},
   "outputs": [
    {
     "data": {
      "text/plain": [
       "Text(0.5, 0, 'Max Depth of Tree')"
      ]
     },
     "execution_count": 10,
     "metadata": {},
     "output_type": "execute_result"
    },
    {
     "data": {
      "image/png": "[encoded data removed]",
      "text/plain": [
       "<Figure size 432x288 with 1 Axes>"
      ]
     },
     "metadata": {
      "needs_background": "light"
     },
     "output_type": "display_data"
    }
   ],
   "source": [
    "plt.plot(df['Max Depth'],df['Mean Accuracy'],'.')\n",
    "plt.ylabel('Mean Accuracy')\n",
    "plt.xlabel('Max Depth of Tree')"
   ]
  },
  {
   "cell_type": "markdown",
   "metadata": {},
   "source": [
    "When comparing the max depths of the trees, we see a logarithmic growth that diminishes after 6 max depth. When testing, I found that max depth of 7 often led to over-fitting."
   ]
  },
  {
   "cell_type": "code",
   "execution_count": 9,
   "metadata": {},
   "outputs": [
    {
     "data": {
      "text/plain": [
       "Text(0.5, 0, 'Training Split Ratio')"
      ]
     },
     "execution_count": 9,
     "metadata": {},
     "output_type": "execute_result"
    },
    {
     "data": {
      "image/png": "[encoded data removed]",
      "text/plain": [
       "<Figure size 432x288 with 1 Axes>"
      ]
     },
     "metadata": {
      "needs_background": "light"
     },
     "output_type": "display_data"
    }
   ],
   "source": [
    "plt.plot(df['Training Split Ratio'],df['Mean Accuracy'],'.')\n",
    "plt.ylabel('Mean Accuracy')\n",
    "plt.xlabel('Training Split Ratio')"
   ]
  },
  {
   "cell_type": "markdown",
   "metadata": {},
   "source": [
    "When looking at a chart of the different training-test split ratios, we can see that it doesnt make too much of a significant difference - but there is data clumped at certain levels for each ratio. I am guessing that has to do with different max-depths of trees. Lets check that:"
   ]
  },
  {
   "cell_type": "code",
   "execution_count": 6,
   "metadata": {},
   "outputs": [
    {
     "data": {
      "text/html": [
       "<div>\n",
       "<style scoped>\n",
       "    .dataframe tbody tr th:only-of-type {\n",
       "        vertical-align: middle;\n",
       "    }\n",
       "\n",
       "    .dataframe tbody tr th {\n",
       "        vertical-align: top;\n",
       "    }\n",
       "\n",
       "    .dataframe thead th {\n",
       "        text-align: right;\n",
       "    }\n",
       "</style>\n",
       "<table border=\"1\" class=\"dataframe\">\n",
       "  <thead>\n",
       "    <tr style=\"text-align: right;\">\n",
       "      <th></th>\n",
       "      <th>Training Split Ratio</th>\n",
       "      <th>Max Depth</th>\n",
       "      <th>Mean Accuracy</th>\n",
       "    </tr>\n",
       "  </thead>\n",
       "  <tbody>\n",
       "    <tr>\n",
       "      <th>0</th>\n",
       "      <td>0.10</td>\n",
       "      <td>1</td>\n",
       "      <td>0.870229</td>\n",
       "    </tr>\n",
       "    <tr>\n",
       "      <th>1</th>\n",
       "      <td>0.10</td>\n",
       "      <td>2</td>\n",
       "      <td>0.920252</td>\n",
       "    </tr>\n",
       "    <tr>\n",
       "      <th>2</th>\n",
       "      <td>0.10</td>\n",
       "      <td>3</td>\n",
       "      <td>0.978264</td>\n",
       "    </tr>\n",
       "    <tr>\n",
       "      <th>3</th>\n",
       "      <td>0.10</td>\n",
       "      <td>4</td>\n",
       "      <td>0.986316</td>\n",
       "    </tr>\n",
       "    <tr>\n",
       "      <th>4</th>\n",
       "      <td>0.10</td>\n",
       "      <td>5</td>\n",
       "      <td>0.988622</td>\n",
       "    </tr>\n",
       "    <tr>\n",
       "      <th>5</th>\n",
       "      <td>0.10</td>\n",
       "      <td>6</td>\n",
       "      <td>0.992926</td>\n",
       "    </tr>\n",
       "    <tr>\n",
       "      <th>6</th>\n",
       "      <td>0.15</td>\n",
       "      <td>1</td>\n",
       "      <td>0.869862</td>\n",
       "    </tr>\n",
       "    <tr>\n",
       "      <th>7</th>\n",
       "      <td>0.15</td>\n",
       "      <td>2</td>\n",
       "      <td>0.919691</td>\n",
       "    </tr>\n",
       "  </tbody>\n",
       "</table>\n",
       "</div>"
      ],
      "text/plain": [
       "   Training Split Ratio  Max Depth  Mean Accuracy\n",
       "0                  0.10          1       0.870229\n",
       "1                  0.10          2       0.920252\n",
       "2                  0.10          3       0.978264\n",
       "3                  0.10          4       0.986316\n",
       "4                  0.10          5       0.988622\n",
       "5                  0.10          6       0.992926\n",
       "6                  0.15          1       0.869862\n",
       "7                  0.15          2       0.919691"
      ]
     },
     "execution_count": 6,
     "metadata": {},
     "output_type": "execute_result"
    }
   ],
   "source": [
    "avg_accuracy_depth = pd.DataFrame(df.groupby(['Training Split Ratio', 'Max Depth'])['Mean Accuracy'].mean().reset_index())\n",
    "\n",
    "avg_accuracy_depth.head(8)"
   ]
  },
  {
   "cell_type": "code",
   "execution_count": 7,
   "metadata": {},
   "outputs": [
    {
     "data": {
      "text/plain": [
       "Text(0, 0.5, 'Mean Accuracy')"
      ]
     },
     "execution_count": 7,
     "metadata": {},
     "output_type": "execute_result"
    },
    {
     "data": {
      "image/png": "[encoded data removed]",
      "text/plain": [
       "<Figure size 432x288 with 1 Axes>"
      ]
     },
     "metadata": {
      "needs_background": "light"
     },
     "output_type": "display_data"
    }
   ],
   "source": [
    "plt.plot(df['Training Split Ratio'],df['Mean Accuracy'],'.')\n",
    "plt.plot(avg_accuracy_depth['Training Split Ratio'],avg_accuracy_depth['Mean Accuracy'],'o')\n",
    "plt.xlabel('Training Split Ratio')\n",
    "plt.ylabel('Mean Accuracy')"
   ]
  },
  {
   "cell_type": "markdown",
   "metadata": {},
   "source": [
    "This accounts for a lot of the skewed data above 85% accuracy, but there is still some mystery of what's going on below 80%. Lets look at the raw data to see if we can find out whats going on."
   ]
  },
  {
   "cell_type": "code",
   "execution_count": 8,
   "metadata": {},
   "outputs": [
    {
     "data": {
      "text/html": [
       "<div>\n",
       "<style scoped>\n",
       "    .dataframe tbody tr th:only-of-type {\n",
       "        vertical-align: middle;\n",
       "    }\n",
       "\n",
       "    .dataframe tbody tr th {\n",
       "        vertical-align: top;\n",
       "    }\n",
       "\n",
       "    .dataframe thead th {\n",
       "        text-align: right;\n",
       "    }\n",
       "</style>\n",
       "<table border=\"1\" class=\"dataframe\">\n",
       "  <thead>\n",
       "    <tr style=\"text-align: right;\">\n",
       "      <th></th>\n",
       "      <th>Model Type</th>\n",
       "      <th>Training Split Ratio</th>\n",
       "      <th>Max Depth</th>\n",
       "      <th>Criterion</th>\n",
       "      <th>Number of Trees</th>\n",
       "      <th>Mean Accuracy</th>\n",
       "    </tr>\n",
       "  </thead>\n",
       "  <tbody>\n",
       "    <tr>\n",
       "      <th>656</th>\n",
       "      <td>Decision Tree</td>\n",
       "      <td>0.10</td>\n",
       "      <td>1</td>\n",
       "      <td>gini</td>\n",
       "      <td>NaN</td>\n",
       "      <td>0.791833</td>\n",
       "    </tr>\n",
       "    <tr>\n",
       "      <th>657</th>\n",
       "      <td>Decision Tree</td>\n",
       "      <td>0.35</td>\n",
       "      <td>1</td>\n",
       "      <td>gini</td>\n",
       "      <td>NaN</td>\n",
       "      <td>0.790974</td>\n",
       "    </tr>\n",
       "    <tr>\n",
       "      <th>658</th>\n",
       "      <td>Decision Tree</td>\n",
       "      <td>0.30</td>\n",
       "      <td>1</td>\n",
       "      <td>gini</td>\n",
       "      <td>NaN</td>\n",
       "      <td>0.790636</td>\n",
       "    </tr>\n",
       "    <tr>\n",
       "      <th>659</th>\n",
       "      <td>Decision Tree</td>\n",
       "      <td>0.40</td>\n",
       "      <td>1</td>\n",
       "      <td>gini</td>\n",
       "      <td>NaN</td>\n",
       "      <td>0.790151</td>\n",
       "    </tr>\n",
       "    <tr>\n",
       "      <th>660</th>\n",
       "      <td>Decision Tree</td>\n",
       "      <td>0.25</td>\n",
       "      <td>1</td>\n",
       "      <td>gini</td>\n",
       "      <td>NaN</td>\n",
       "      <td>0.790138</td>\n",
       "    </tr>\n",
       "    <tr>\n",
       "      <th>661</th>\n",
       "      <td>Decision Tree</td>\n",
       "      <td>0.20</td>\n",
       "      <td>1</td>\n",
       "      <td>gini</td>\n",
       "      <td>NaN</td>\n",
       "      <td>0.789858</td>\n",
       "    </tr>\n",
       "    <tr>\n",
       "      <th>662</th>\n",
       "      <td>Decision Tree</td>\n",
       "      <td>0.15</td>\n",
       "      <td>1</td>\n",
       "      <td>gini</td>\n",
       "      <td>NaN</td>\n",
       "      <td>0.789779</td>\n",
       "    </tr>\n",
       "    <tr>\n",
       "      <th>663</th>\n",
       "      <td>Decision Tree</td>\n",
       "      <td>0.45</td>\n",
       "      <td>1</td>\n",
       "      <td>gini</td>\n",
       "      <td>NaN</td>\n",
       "      <td>0.789680</td>\n",
       "    </tr>\n",
       "    <tr>\n",
       "      <th>664</th>\n",
       "      <td>Decision Tree</td>\n",
       "      <td>0.45</td>\n",
       "      <td>1</td>\n",
       "      <td>entropy</td>\n",
       "      <td>NaN</td>\n",
       "      <td>0.745460</td>\n",
       "    </tr>\n",
       "    <tr>\n",
       "      <th>665</th>\n",
       "      <td>Decision Tree</td>\n",
       "      <td>0.40</td>\n",
       "      <td>1</td>\n",
       "      <td>entropy</td>\n",
       "      <td>NaN</td>\n",
       "      <td>0.743215</td>\n",
       "    </tr>\n",
       "    <tr>\n",
       "      <th>666</th>\n",
       "      <td>Decision Tree</td>\n",
       "      <td>0.35</td>\n",
       "      <td>1</td>\n",
       "      <td>entropy</td>\n",
       "      <td>NaN</td>\n",
       "      <td>0.741589</td>\n",
       "    </tr>\n",
       "    <tr>\n",
       "      <th>667</th>\n",
       "      <td>Decision Tree</td>\n",
       "      <td>0.25</td>\n",
       "      <td>1</td>\n",
       "      <td>entropy</td>\n",
       "      <td>NaN</td>\n",
       "      <td>0.738941</td>\n",
       "    </tr>\n",
       "    <tr>\n",
       "      <th>668</th>\n",
       "      <td>Decision Tree</td>\n",
       "      <td>0.20</td>\n",
       "      <td>1</td>\n",
       "      <td>entropy</td>\n",
       "      <td>NaN</td>\n",
       "      <td>0.735582</td>\n",
       "    </tr>\n",
       "    <tr>\n",
       "      <th>669</th>\n",
       "      <td>Decision Tree</td>\n",
       "      <td>0.10</td>\n",
       "      <td>1</td>\n",
       "      <td>entropy</td>\n",
       "      <td>NaN</td>\n",
       "      <td>0.733604</td>\n",
       "    </tr>\n",
       "    <tr>\n",
       "      <th>670</th>\n",
       "      <td>Decision Tree</td>\n",
       "      <td>0.30</td>\n",
       "      <td>1</td>\n",
       "      <td>entropy</td>\n",
       "      <td>NaN</td>\n",
       "      <td>0.732629</td>\n",
       "    </tr>\n",
       "    <tr>\n",
       "      <th>671</th>\n",
       "      <td>Decision Tree</td>\n",
       "      <td>0.15</td>\n",
       "      <td>1</td>\n",
       "      <td>entropy</td>\n",
       "      <td>NaN</td>\n",
       "      <td>0.730336</td>\n",
       "    </tr>\n",
       "  </tbody>\n",
       "</table>\n",
       "</div>"
      ],
      "text/plain": [
       "        Model Type  Training Split Ratio  Max Depth Criterion  \\\n",
       "656  Decision Tree                  0.10          1      gini   \n",
       "657  Decision Tree                  0.35          1      gini   \n",
       "658  Decision Tree                  0.30          1      gini   \n",
       "659  Decision Tree                  0.40          1      gini   \n",
       "660  Decision Tree                  0.25          1      gini   \n",
       "661  Decision Tree                  0.20          1      gini   \n",
       "662  Decision Tree                  0.15          1      gini   \n",
       "663  Decision Tree                  0.45          1      gini   \n",
       "664  Decision Tree                  0.45          1   entropy   \n",
       "665  Decision Tree                  0.40          1   entropy   \n",
       "666  Decision Tree                  0.35          1   entropy   \n",
       "667  Decision Tree                  0.25          1   entropy   \n",
       "668  Decision Tree                  0.20          1   entropy   \n",
       "669  Decision Tree                  0.10          1   entropy   \n",
       "670  Decision Tree                  0.30          1   entropy   \n",
       "671  Decision Tree                  0.15          1   entropy   \n",
       "\n",
       "     Number of Trees  Mean Accuracy  \n",
       "656              NaN       0.791833  \n",
       "657              NaN       0.790974  \n",
       "658              NaN       0.790636  \n",
       "659              NaN       0.790151  \n",
       "660              NaN       0.790138  \n",
       "661              NaN       0.789858  \n",
       "662              NaN       0.789779  \n",
       "663              NaN       0.789680  \n",
       "664              NaN       0.745460  \n",
       "665              NaN       0.743215  \n",
       "666              NaN       0.741589  \n",
       "667              NaN       0.738941  \n",
       "668              NaN       0.735582  \n",
       "669              NaN       0.733604  \n",
       "670              NaN       0.732629  \n",
       "671              NaN       0.730336  "
      ]
     },
     "execution_count": 8,
     "metadata": {},
     "output_type": "execute_result"
    }
   ],
   "source": [
    "temp = df[df['Mean Accuracy'] < 0.85]\n",
    "\n",
    "temp.head(50)"
   ]
  },
  {
   "cell_type": "markdown",
   "metadata": {},
   "source": [
    "It looks like the main cause is most likely the max-depth still, and that the seperator from the group below 80% and the group below 75% is gini criterion VS entropy criterion"
   ]
  },
  {
   "cell_type": "markdown",
   "metadata": {},
   "source": [
    "## Conclusion"
   ]
  },
  {
   "cell_type": "markdown",
   "metadata": {},
   "source": [
    "It is interesting that the model with the highest level of accuracy is a gini index decision tree with a max depth of 6, which outperforms a random forest with the same criteria. These results are slim, but it is significant nonetheless. \n",
    "\n",
    "For future research, it would be interesting to compare these results to a similar process for other models, such as a neural network or naive bayes, and see which is more accurate."
   ]
  }
 ],
 "metadata": {
  "interpreter": {
   "hash": "98808177eff5c3d00cd3f8ba078e7de363e144613083868b262a65269a3681a0"
  },
  "kernelspec": {
   "display_name": "Python 3.9.7 64-bit",
   "language": "python",
   "name": "python3"
  },
  "language_info": {
   "codemirror_mode": {
    "name": "ipython",
    "version": 3
   },
   "file_extension": ".py",
   "mimetype": "text/x-python",
   "name": "python",
   "nbconvert_exporter": "python",
   "pygments_lexer": "ipython3",
   "version": "3.9.7"
  },
  "orig_nbformat": 4
 },
 "nbformat": 4,
 "nbformat_minor": 2
}
